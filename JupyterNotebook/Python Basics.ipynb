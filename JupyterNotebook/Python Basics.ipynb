{
 "cells": [
  {
   "cell_type": "raw",
   "id": "a9c8d3d6",
   "metadata": {},
   "source": [
    "Python Notes:\n",
    "\n",
    "Python is interpeter, high level, object oriented progarmming language.\n",
    "interpeter means it run one statement at a time or a it run line by line.\n",
    "\n",
    "Uses of Python: \n",
    "Major use of the Python in \n",
    "1. Web development (backend Framework: Django and Flask) Hence, python is sever side language also.\n",
    "2. Artificial Intelligence, Machine learnig, Deep learnig\n",
    "3. Data Analysis\n",
    "\n",
    "Comments in Python:\n",
    "For Single line Comment we used a #\n",
    "Eg: \n",
    "#Comment\n",
    "for Multiple line Comment we used a ''' Comments ''' \n",
    "Eg: \n",
    "'''comment''' \n",
    "\n",
    "Modules: A module is file which contain a code written by someone else we import that code in our programs\n",
    "type of modules: \n",
    "built in modules: Pre install in the python\n",
    "External modules: this is we have to install. eg: flask, Django, opencv, etc\n",
    "\n",
    "Pip: pip is a Package manager in Python\n",
    "pip is used for install new libariry in python\n",
    "Eg: pip install Flask\n",
    "\n"
   ]
  },
  {
   "cell_type": "code",
   "execution_count": 7,
   "id": "e004da4c",
   "metadata": {},
   "outputs": [
    {
     "name": "stdout",
     "output_type": "stream",
     "text": [
      "Asus laptops\n"
     ]
    }
   ],
   "source": [
    "#print is used for printing in the python\n",
    "''' this is example of multiple \n",
    "    line comment\n",
    "'''\n",
    "\n",
    "\n",
    "print(\"Asus laptops\")"
   ]
  },
  {
   "cell_type": "code",
   "execution_count": 1,
   "id": "f65a53ce",
   "metadata": {},
   "outputs": [
    {
     "name": "stdout",
     "output_type": "stream",
     "text": [
      "Rakesh Hello world 45\n"
     ]
    }
   ],
   "source": [
    "#String concatinaton\n",
    "print(\"Rakesh\", \"Hello world\", 45)"
   ]
  },
  {
   "cell_type": "code",
   "execution_count": 6,
   "id": "d0cf2c19",
   "metadata": {},
   "outputs": [
    {
     "name": "stdout",
     "output_type": "stream",
     "text": [
      "<class 'int'>\n",
      "<class 'float'>\n",
      "<class 'str'>\n",
      "<class 'bool'>\n"
     ]
    }
   ],
   "source": [
    "#Type is used for finding the datatype of the variables\n",
    "a = 5\n",
    "b = 5.0\n",
    "c = \"Rakesh vishwakarma\"\n",
    "d = True\n",
    "print(type(a))\n",
    "print(type(b))\n",
    "print(type(c))\n",
    "print(type(d))"
   ]
  },
  {
   "cell_type": "code",
   "execution_count": 19,
   "id": "96ea3377",
   "metadata": {},
   "outputs": [
    {
     "name": "stdout",
     "output_type": "stream",
     "text": [
      "Sally\n",
      "<class 'str'>\n",
      "456\n",
      "<class 'int'>\n"
     ]
    }
   ],
   "source": [
    "x = 4       # x is of type int\n",
    "x = \"Sally\" # x is now of type str\n",
    "print(x)\n",
    "print(type(x))\n",
    "\n",
    "# I converted the String into a interger\n",
    "a = \"456\"\n",
    "a = int(a)\n",
    "\n",
    "print(a)\n",
    "print(type(a))\n"
   ]
  },
  {
   "cell_type": "code",
   "execution_count": 2,
   "id": "785179a4",
   "metadata": {},
   "outputs": [
    {
     "name": "stdout",
     "output_type": "stream",
     "text": [
      "50\n"
     ]
    }
   ],
   "source": [
    "a = 5\n",
    "b = 45\n",
    "c = a + b\n",
    "print(c)"
   ]
  },
  {
   "cell_type": "code",
   "execution_count": 13,
   "id": "b9af5514",
   "metadata": {},
   "outputs": [
    {
     "name": "stdout",
     "output_type": "stream",
     "text": [
      "Enter the number1: 5\n",
      "Enter the number2: 6\n",
      "the Sum of number is 11\n",
      "Enter the name: Rakesh\n",
      "your name is Rakesh\n"
     ]
    }
   ],
   "source": [
    "#Taking input from the user\n",
    "a = int(input(\"Enter the number1: \"))\n",
    "b = int(input(\"Enter the number2: \"))\n",
    "print(\"the Sum of number is\",a+b)\n",
    "\n",
    "name = input(\"Enter the name: \")\n",
    "print(\"your name is\",name)"
   ]
  },
  {
   "cell_type": "markdown",
   "id": "ae9c4f23",
   "metadata": {},
   "source": []
  }
 ],
 "metadata": {
  "kernelspec": {
   "display_name": "Python 3 (ipykernel)",
   "language": "python",
   "name": "python3"
  },
  "language_info": {
   "codemirror_mode": {
    "name": "ipython",
    "version": 3
   },
   "file_extension": ".py",
   "mimetype": "text/x-python",
   "name": "python",
   "nbconvert_exporter": "python",
   "pygments_lexer": "ipython3",
   "version": "3.10.0"
  }
 },
 "nbformat": 4,
 "nbformat_minor": 5
}
