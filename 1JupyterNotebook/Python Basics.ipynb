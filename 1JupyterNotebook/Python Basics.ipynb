{
 "cells": [
  {
   "cell_type": "raw",
   "id": "a9c8d3d6",
   "metadata": {},
   "source": [
    "Python Notes:\n",
    "\n",
    "Python is interpeter, high level, object oriented progarmming language.\n",
    "interpeter means it run one statement at a time or a it run line by line.\n",
    "\n",
    "Uses of Python: \n",
    "Major use of the Python in \n",
    "1. Web development (backend Framework: Django and Flask) Hence, python is sever side language also.\n",
    "2. Artificial Intelligence, Machine learnig, Deep learnig\n",
    "3. Data Analysis\n",
    "\n",
    "Comments in Python:\n",
    "For Single line Comment we used a #\n",
    "Eg: \n",
    "#Comment\n",
    "for Multiple line Comment we used a ''' Comments ''' \n",
    "Eg: \n",
    "'''comment''' \n",
    "\n",
    "Modules: A module is file which contain a code written by someone else we import that code in our programs\n",
    "type of modules: \n",
    "built in modules: Pre install in the python\n",
    "External modules: this is we have to install. eg: flask, Django, opencv, etc\n",
    "\n",
    "Pip: pip is a Package manager in Python\n",
    "pip is used for install new libariry in python\n",
    "Eg: pip install Flask\n",
    "\n"
   ]
  },
  {
   "cell_type": "code",
   "execution_count": 7,
   "id": "e004da4c",
   "metadata": {},
   "outputs": [
    {
     "name": "stdout",
     "output_type": "stream",
     "text": [
      "Asus laptops\n"
     ]
    }
   ],
   "source": [
    "#print is used for printing in the python\n",
    "''' this is example of multiple \n",
    "    line comment\n",
    "'''\n",
    "\n",
    "\n",
    "print(\"Asus laptops\")"
   ]
  },
  {
   "cell_type": "code",
   "execution_count": 1,
   "id": "f65a53ce",
   "metadata": {},
   "outputs": [
    {
     "name": "stdout",
     "output_type": "stream",
     "text": [
      "Rakesh Hello world 45\n"
     ]
    }
   ],
   "source": [
    "#String concatinaton\n",
    "print(\"Rakesh\", \"Hello world\", 45)"
   ]
  },
  {
   "cell_type": "code",
   "execution_count": 6,
   "id": "d0cf2c19",
   "metadata": {},
   "outputs": [
    {
     "name": "stdout",
     "output_type": "stream",
     "text": [
      "<class 'int'>\n",
      "<class 'float'>\n",
      "<class 'str'>\n",
      "<class 'bool'>\n"
     ]
    }
   ],
   "source": [
    "#Type is used for finding the datatype of the variables\n",
    "a = 5\n",
    "b = 5.0\n",
    "c = \"Rakesh vishwakarma\"\n",
    "d = True\n",
    "print(type(a))\n",
    "print(type(b))\n",
    "print(type(c))\n",
    "print(type(d))"
   ]
  },
  {
   "cell_type": "code",
   "execution_count": 19,
   "id": "96ea3377",
   "metadata": {},
   "outputs": [
    {
     "name": "stdout",
     "output_type": "stream",
     "text": [
      "Sally\n",
      "<class 'str'>\n",
      "456\n",
      "<class 'int'>\n"
     ]
    }
   ],
   "source": [
    "x = 4       # x is of type int\n",
    "x = \"Sally\" # x is now of type str\n",
    "print(x)\n",
    "print(type(x))\n",
    "\n",
    "# I converted the String into a interger\n",
    "a = \"456\"\n",
    "a = int(a)\n",
    "\n",
    "print(a)\n",
    "print(type(a))\n"
   ]
  },
  {
   "cell_type": "code",
   "execution_count": 2,
   "id": "785179a4",
   "metadata": {},
   "outputs": [
    {
     "name": "stdout",
     "output_type": "stream",
     "text": [
      "50\n"
     ]
    }
   ],
   "source": [
    "a = 5\n",
    "b = 45\n",
    "c = a + b\n",
    "print(c)"
   ]
  },
  {
   "cell_type": "code",
   "execution_count": 13,
   "id": "b9af5514",
   "metadata": {},
   "outputs": [
    {
     "name": "stdout",
     "output_type": "stream",
     "text": [
      "Enter the number1: 5\n",
      "Enter the number2: 6\n",
      "the Sum of number is 11\n",
      "Enter the name: Rakesh\n",
      "your name is Rakesh\n"
     ]
    }
   ],
   "source": [
    "#Taking input from the user\n",
    "a = int(input(\"Enter the number1: \"))\n",
    "b = int(input(\"Enter the number2: \"))\n",
    "print(\"the Sum of number is\",a+b)\n",
    "\n",
    "name = input(\"Enter the name: \")\n",
    "print(\"your name is\",name)"
   ]
  },
  {
   "cell_type": "code",
   "execution_count": 5,
   "id": "369ff944",
   "metadata": {},
   "outputs": [
    {
     "name": "stdout",
     "output_type": "stream",
     "text": [
      "[34, 'rakesh', 8.9, 56]\n",
      "56\n"
     ]
    }
   ],
   "source": [
    "#list is a datatype in python which written in square bracket and it stored different differnt of data type pf variable\n",
    "li = [34, 'rakesh', 8.90, 56]\n",
    "print(li)\n",
    "print(li[3])"
   ]
  },
  {
   "cell_type": "code",
   "execution_count": 18,
   "id": "db4f7397",
   "metadata": {},
   "outputs": [
    {
     "name": "stdout",
     "output_type": "stream",
     "text": [
      "10\n",
      "[1, 2, 3, 4, 5, 6, 7, 8, 9, 0]\n",
      "[1, 2, 3, 4, 5, 6, 7, 8, 9, 0, 45]\n",
      "[45, 0, 9, 8, 7, 6, 5, 4, 3, 2, 1]\n",
      "[45, 0, 9, 44, 8, 7, 6, 5, 4, 3, 2, 1]\n",
      "[45, 0, 9, 8, 7, 6, 5, 4, 3, 2, 1]\n"
     ]
    }
   ],
   "source": [
    "#list Function\n",
    "li = [1,2,3,4,5,6,7,8,9,0]\n",
    "\n",
    "print(len(li))\n",
    "\n",
    "#for sort the list\n",
    "li.sort\n",
    "print(li)\n",
    "\n",
    "#for append the new number on list\n",
    "li.append(45)\n",
    "print(li)\n",
    "\n",
    "#for reverse the list\n",
    "li.reverse()\n",
    "print(li)\n",
    "\n",
    "#for inserting the item in particular index\n",
    "li.insert(3,44)\n",
    "print(li)\n",
    "\n",
    "#for deleting a item in particular index\n",
    "li.pop(3)\n",
    "print(li)"
   ]
  },
  {
   "cell_type": "code",
   "execution_count": 19,
   "id": "c4d2498c",
   "metadata": {},
   "outputs": [
    {
     "name": "stdout",
     "output_type": "stream",
     "text": [
      "6\n",
      "from the index 1 to 5:  [6, 4, 23, 22]\n",
      "[4, 23, 22, 98]\n",
      "Print the all item present after index 2: [4, 23, 22, 98]\n",
      "Print the all item present before index 6: [4, 6, 4, 23, 22, 98]\n",
      "26\n",
      "['A', 'C', 'E', 'G', 'I', 'K', 'M', 'O', 'Q', 'S', 'U', 'W', 'Y']\n",
      "13\n"
     ]
    }
   ],
   "source": [
    "#list Slicing\n",
    "\n",
    "li = [4, 6, 4, 23, 22, 98]\n",
    "\n",
    "print(len(li)) #print the lenght of the List\n",
    "\n",
    "#slicing is part of the list\n",
    "print(\"from the index 1 to 5: \",li[1:5])\n",
    "print(li[2:6])\n",
    "#here 2 is the starting index and 6 is the ending index of the list.\n",
    "\n",
    "print(\"Print the all item present after index 2:\",li[2:])#it start with the entered starting index and print upto ending index.\n",
    "print(\"Print the all item present before index 6:\",li[:6])#its print the start to the entered index number\n",
    "\n",
    "alphabet = ['A', 'B', 'C', 'D', 'E', 'F', 'G', 'H', 'I', 'J', 'K', 'L', 'M', 'N', 'O', 'P', 'Q', 'R', 'S', 'T', 'U', 'V', 'W', 'X', 'Y', 'Z']\n",
    "print(len(alphabet))\n",
    "\n",
    "print(alphabet[0:25:2])#here 2 is for skip the every second item in list.\n",
    "print(len(alphabet[0:25:2]))"
   ]
  },
  {
   "cell_type": "markdown",
   "id": "ae9c4f23",
   "metadata": {},
   "source": []
  }
 ],
 "metadata": {
  "kernelspec": {
   "display_name": "Python 3",
   "language": "python",
   "name": "python3"
  },
  "language_info": {
   "codemirror_mode": {
    "name": "ipython",
    "version": 3
   },
   "file_extension": ".py",
   "mimetype": "text/x-python",
   "name": "python",
   "nbconvert_exporter": "python",
   "pygments_lexer": "ipython3",
   "version": "3.10.0"
  },
  "vscode": {
   "interpreter": {
    "hash": "cb39dc1b0f30f51e89c87af8195bd28f175647da367a3a1c651d1293d43ce759"
   }
  }
 },
 "nbformat": 4,
 "nbformat_minor": 5
}
